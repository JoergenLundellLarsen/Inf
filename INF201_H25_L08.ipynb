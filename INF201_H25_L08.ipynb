{
 "cells": [
  {
   "cell_type": "markdown",
   "id": "d423d94e-5864-4901-b69f-89b82cca8ebb",
   "metadata": {},
   "source": [
    "\n",
    "INF200 Lecture No 8 (preliminary version)\n",
    "=========================================\n",
    "\n",
    "***Hans Ekkehard Plesser, NMBU, 27 October 2025***\n",
    "\n",
    "# Today's topics\n",
    "\n",
    "* Brief Chutes & Ladders recap\n",
    "* Object-oriented programming\n",
    "    * Fundamentals\n",
    "        - Principles\n",
    "        - Terminology\n",
    "    * Key techniques\n",
    "        - Classes and instances\n",
    "        - Classes and subclasses\n",
    "    * Examples\n",
    "        - Combine data an operations\n",
    "        - Modify behavior\n",
    "        - Hide implementation details\n",
    "    * Names, namespaces and scopes\n",
    "    * Copying objects\n",
    "    * Defining new data types"
   ]
  },
  {
   "cell_type": "markdown",
   "id": "f2296da5-be6c-4a51-98fc-4844f33bf870",
   "metadata": {},
   "source": [
    "# Chutes & Ladders recap\n",
    "\n",
    "- See code from Lecture 7"
   ]
  },
  {
   "cell_type": "markdown",
   "id": "5611b418-93ce-4b44-beb0-e06775a08f86",
   "metadata": {},
   "source": [
    "------\n",
    "\n",
    "# Object-oriented programming\n",
    "\n",
    "- Invented in the 1960s **in Norway**\n",
    "- First OO language: [Simula](https://en.wikipedia.org/wiki/Simula) by [Kristen Nygaard](https://en.wikipedia.org/wiki/Kristen_Nygaard) and [Ole-Johan Dahl](https://en.wikipedia.org/wiki/Ole-Johan_Dahl)\n",
    "- Important early OO-language: [Smalltalk](https://en.wikipedia.org/wiki/Smalltalk) (1972)\n",
    "- First industrial-strength OO-language: [C++](https://en.wikipedia.org/wiki/C%2B%2B) by [Bjarne Stroustrup](https://en.wikipedia.org/wiki/Bjarne_Stroustrup) (1983, 1990, C++98, C++11, C++14, C++17, C++20, C++23)\n",
    "- Important OO-languages today\n",
    "    - General: [C++](https://en.wikipedia.org/wiki/C%2B%2B), <a href=https://en.wikipedia.org/wiki/Java_(programming_language)>Java</a>, \n",
    "<a href=https://en.wikipedia.org/wiki/Python_(programming_language)>Python</a>    \n",
    "    - Mostly for web: [PHP](https://en.wikipedia.org/wiki/PHP), [JavaScript](https://en.wikipedia.org/wiki/JavaScript), \n",
    "    <a href=https://en.wikipedia.org/wiki/Ruby_(programming_language)>Ruby</a>\n",
    "    - Vendor specific: \n",
    "    <a href=https://en.wikipedia.org/wiki/C_Sharp_(programming_language)>C#</a>,\n",
    "[Objective-C](https://en.wikipedia.org/wiki/Objective-C), <a href=https://en.wikipedia.org/wiki/Swift_(programming_language)>Swift</a>\n",
    "    - and more \n",
    "- Most of these languages are multi-paradigm languages supporting also other programming styles than strict object-oriented programming\n",
    "- Other [programming paradigms](https://en.wikipedia.org/wiki/Programming_paradigm) include, e.g. \n",
    "    - procedural\n",
    "    - functional\n",
    "    - generic"
   ]
  },
  {
   "cell_type": "markdown",
   "id": "b8f6f6b3-7290-4396-9c96-b687cc62e8ff",
   "metadata": {},
   "source": [
    "    \n",
    "##  Fundamentals\n",
    "\n",
    "### Idea 1: Combine data and operations into new data types\n",
    "\n",
    "- A (user-defined) data type is a *class*\n",
    "- Each *object* is an *instance* of a class\n",
    "- Classes and objects have *attributes*\n",
    "    - *Methods* are functions operating on objects\n",
    "    - *Fields* are data (variables) contained in objects\n",
    "    - Methods and fields are also known as *member functions* and *member variables*\n",
    "    \n",
    "### Idea 2: Allow modification and extension of data types\n",
    "\n",
    "- *Inheritance*: Define a *subclass* based on a *superclass* and adapt or extend it\n",
    "\n",
    "### Idea 3: Expose an interface, hide the implementation\n",
    "\n",
    "- *Interface*: Methods \"advertised\" for public use\n",
    "    - Provides access to functionality of the class\n",
    "    - Should be stable over time\n",
    "    - Should be well documented\n",
    "    - Should be well tested\n",
    "- *Implementation*: Does the actual work\n",
    "    - User should not need to know about it\n",
    "    - Can change at any time (refactoring)\n",
    "    - Changes should not affect behavior\n",
    "- Also know as *encapsulation*"
   ]
  },
  {
   "cell_type": "markdown",
   "id": "6779d5f5-b6db-46bb-ba18-311cb0d13107",
   "metadata": {},
   "source": [
    "### Terminology\n",
    "\n",
    "#### Data type\n",
    "A set of rules specifying\n",
    "- how to interpret chunks of data (bits and bytes) in computer memory\n",
    "- what operations are permitted on this data (syntax/grammar)\n",
    "- what these operations do (semantics/meaning)\n",
    "\n",
    "#### Object\n",
    "A chunk of data at a given address in computer memory with a data type. An object can be created, destroyed, and possibly modified.\n",
    "\n",
    "#### Class\n",
    "A class is a (user-defined) data type. The class definition specifies\n",
    "- which data an object of the class contains\n",
    "- which operations may be performed on objects of the class\n",
    "\n",
    "#### Instance\n",
    "An instance of a class is an object that has the class as its data type.\n",
    "\n",
    "#### Method (member function)\n",
    "Functions defined in a class which operate on objects of the class are the *methods* of the class.\n",
    "\n",
    "#### Data attribute (member variable, data member, field)\n",
    "Variables that are part of instances of a class, i.e., which contain the data in an object, are the *data attributes* of the class.\n",
    "\n",
    "#### Inheritance\n",
    "Create specialized classes from general ones.\n",
    "\n",
    "#### Encapsulation\n",
    "Hide implementation details from the outside world."
   ]
  },
  {
   "cell_type": "markdown",
   "id": "2239196d-389f-48f5-a1ca-138c491371f2",
   "metadata": {},
   "source": [
    "----\n",
    "## Key techniques\n",
    "\n",
    "### Classes and instances\n",
    "\n",
    "#### Defining a class\n",
    "\n",
    "```python\n",
    "class ClassName:\n",
    "    \"\"\"\n",
    "    Class documentation.\n",
    "    \"\"\"\n",
    "    \n",
    "    def __init__(self, <constructor arguments>):\n",
    "        \"\"\"\n",
    "        Documentation of constructor arguments.\n",
    "        \"\"\"\n",
    "        # constructor body\n",
    "        \n",
    "    # class body\n",
    " ```\n",
    "\n",
    "- Defines new class as data type\n",
    "- Class names begin with capital letter and use camel-casing\n",
    "- The new class is itself an object of datatype `type`\n",
    "\n",
    "#### Creating an instance\n",
    "```python\n",
    "obj = ClassName(<constructor arguments>)\n",
    "```\n",
    "\n",
    "- Create one instance (object) of class, initializing data members according to arguments\n",
    "\n",
    "#### Destroying an instance\n",
    "Handled automatically by Python's garbage collection mechanism when no references left.\n",
    "\n",
    "#### The *constructor*: `__init__()`\n",
    "\n",
    "- The name `__init__` has a special meaning in Python (also other `__...__` names have special meaning in Python)\n",
    "- `__init__(self, ...)` method is the *constructor*\n",
    "    - Is called automatically by Python every time we create a class instance\n",
    "    - Initializes data members of each class instance\n",
    "    - In that way, someone reading the code will know from the constructor which data members to expect\n",
    "    - Initialize members with `None`, empty lists or similar to ensure initial state is self-consistent\n",
    "- Constructor should refuse to construct instances with meaningless values, e.g., a circle with negative radius\n",
    "\n",
    "**Overall idea: Construct objects with consistent state and guarantee that all methods maintain objects in a consistent state.**    \n",
    "\n",
    "\n",
    "#### Docstrings\n",
    "\n",
    "- Class docstring: describe purpose of class itself\n",
    "- Constructor docstring: describe arguments\n",
    "- Help functions will typically display constructor doc together with class doc\n",
    "\n",
    "---------\n",
    "### Example: Circles and rectangles"
   ]
  },
  {
   "cell_type": "code",
   "execution_count": 2,
   "id": "a494e017-5200-49cf-b87f-47866899c629",
   "metadata": {},
   "outputs": [],
   "source": [
    "import math"
   ]
  },
  {
   "cell_type": "code",
   "execution_count": 3,
   "id": "10f199d7-94fc-4183-b0ac-63b3c42d01dc",
   "metadata": {},
   "outputs": [],
   "source": [
    "class Circle:\n",
    "    \"\"\"Circle shape.\"\"\"\n",
    "    \n",
    "    def __init__(self, center, radius):\n",
    "        \"\"\"\n",
    "        center: coordinates of circle center\n",
    "        radius: radius of circle (>= 0 required)\n",
    "        \"\"\"\n",
    "        \n",
    "        assert radius >= 0, \"Radius must be strictly positive\"\n",
    "        self.ctr = center\n",
    "        self.rad = radius\n",
    "        \n",
    "    def area(self):\n",
    "        \"\"\"Area of circle.\"\"\"\n",
    "        return math.pi * self.rad**2"
   ]
  },
  {
   "cell_type": "code",
   "execution_count": 4,
   "id": "3077764e-e164-47ed-aac5-8e5f119b20bc",
   "metadata": {},
   "outputs": [],
   "source": [
    "class Rectangle:\n",
    "    def __init__(self, lower_left, upper_right):\n",
    "        self.ll = lower_left\n",
    "        self.ur = upper_right\n",
    "        \n",
    "    def area(self):\n",
    "        return (self.ur[0] - self.ll[0]) * (self.ur[1] - self.ll[1])"
   ]
  },
  {
   "cell_type": "code",
   "execution_count": 5,
   "id": "5cc99719-aea5-49fa-bcb3-49759b016bc6",
   "metadata": {},
   "outputs": [
    {
     "data": {
      "text/plain": [
       "type"
      ]
     },
     "execution_count": 5,
     "metadata": {},
     "output_type": "execute_result"
    }
   ],
   "source": [
    "type(Circle)"
   ]
  },
  {
   "cell_type": "code",
   "execution_count": 6,
   "id": "85a3270a-4de0-4e41-8845-8beb853f0dfb",
   "metadata": {},
   "outputs": [
    {
     "data": {
      "text/plain": [
       "type"
      ]
     },
     "execution_count": 6,
     "metadata": {},
     "output_type": "execute_result"
    }
   ],
   "source": [
    "type(Rectangle)"
   ]
  },
  {
   "cell_type": "code",
   "execution_count": 7,
   "id": "b6c61a2c-f6da-4a8c-8640-ae0ea3029da9",
   "metadata": {},
   "outputs": [
    {
     "name": "stdout",
     "output_type": "stream",
     "text": [
      "\u001b[31mInit signature:\u001b[39m Circle(center, radius)\n",
      "\u001b[31mDocstring:\u001b[39m      Circle shape.\n",
      "\u001b[31mInit docstring:\u001b[39m\n",
      "center: coordinates of circle center\n",
      "radius: radius of circle (>= 0 required)\n",
      "\u001b[31mType:\u001b[39m           type\n",
      "\u001b[31mSubclasses:\u001b[39m     "
     ]
    }
   ],
   "source": [
    "Circle?"
   ]
  },
  {
   "cell_type": "markdown",
   "id": "e3c93bf6-f109-433b-9d94-f79ae5746246",
   "metadata": {},
   "source": [
    "- We create two instances and look at their `type` and `id`\n",
    "- First a helper function for pretty output"
   ]
  },
  {
   "cell_type": "code",
   "execution_count": 8,
   "id": "512c8f13-53cd-4c57-aac3-02e3f1dec291",
   "metadata": {},
   "outputs": [],
   "source": [
    "def display(obj):\n",
    "    return f\"\"\"\n",
    "    Instance: {obj}\n",
    "    Type    : {type(obj)}\n",
    "    Id      : {hex(id(obj))}\"\"\""
   ]
  },
  {
   "cell_type": "code",
   "execution_count": 9,
   "id": "c90cf276-db56-429a-8c93-8e6cb6168e0d",
   "metadata": {},
   "outputs": [
    {
     "name": "stdout",
     "output_type": "stream",
     "text": [
      "\n",
      "    Instance: <__main__.Circle object at 0x108181550>\n",
      "    Type    : <class '__main__.Circle'>\n",
      "    Id      : 0x108181550\n",
      "\n",
      "    Instance: <__main__.Circle object at 0x107e6bed0>\n",
      "    Type    : <class '__main__.Circle'>\n",
      "    Id      : 0x107e6bed0\n"
     ]
    }
   ],
   "source": [
    "c1 = Circle((0, 0), 10)\n",
    "c2 = Circle((0, 0), 20)\n",
    "print(display(c1))\n",
    "print(display(c2))"
   ]
  },
  {
   "cell_type": "markdown",
   "id": "6f98b990-420f-4237-9ad2-b402bdf40727",
   "metadata": {},
   "source": [
    "- We can query the area of the circles"
   ]
  },
  {
   "cell_type": "code",
   "execution_count": 10,
   "id": "855589cc-c3f4-44df-af1e-2cde62765795",
   "metadata": {},
   "outputs": [
    {
     "data": {
      "text/plain": [
       "(314.1592653589793, 1256.6370614359173)"
      ]
     },
     "execution_count": 10,
     "metadata": {},
     "output_type": "execute_result"
    }
   ],
   "source": [
    "c1.area(), c2.area()"
   ]
  },
  {
   "cell_type": "markdown",
   "id": "0acaca6a-6519-4873-b0b3-488e1ec7ca83",
   "metadata": {},
   "source": [
    "- We cannot create circles with \"illegal\" specs\"\n",
    "- What would happen if we did not have the protection in place?"
   ]
  },
  {
   "cell_type": "code",
   "execution_count": 11,
   "id": "ffb05a5b-bf8f-4feb-9c74-aef594a64331",
   "metadata": {},
   "outputs": [
    {
     "ename": "AssertionError",
     "evalue": "Radius must be strictly positive",
     "output_type": "error",
     "traceback": [
      "\u001b[31m---------------------------------------------------------------------------\u001b[39m",
      "\u001b[31mAssertionError\u001b[39m                            Traceback (most recent call last)",
      "\u001b[36mCell\u001b[39m\u001b[36m \u001b[39m\u001b[32mIn[11]\u001b[39m\u001b[32m, line 1\u001b[39m\n\u001b[32m----> \u001b[39m\u001b[32m1\u001b[39m \u001b[43mCircle\u001b[49m\u001b[43m(\u001b[49m\u001b[43m(\u001b[49m\u001b[32;43m1\u001b[39;49m\u001b[43m,\u001b[49m\u001b[43m \u001b[49m\u001b[32;43m0\u001b[39;49m\u001b[43m)\u001b[49m\u001b[43m,\u001b[49m\u001b[43m \u001b[49m\u001b[43m-\u001b[49m\u001b[32;43m1\u001b[39;49m\u001b[43m)\u001b[49m\n",
      "\u001b[36mCell\u001b[39m\u001b[36m \u001b[39m\u001b[32mIn[3]\u001b[39m\u001b[32m, line 10\u001b[39m, in \u001b[36mCircle.__init__\u001b[39m\u001b[34m(self, center, radius)\u001b[39m\n\u001b[32m      4\u001b[39m \u001b[38;5;28;01mdef\u001b[39;00m\u001b[38;5;250m \u001b[39m\u001b[34m__init__\u001b[39m(\u001b[38;5;28mself\u001b[39m, center, radius):\n\u001b[32m      5\u001b[39m \u001b[38;5;250m    \u001b[39m\u001b[33;03m\"\"\"\u001b[39;00m\n\u001b[32m      6\u001b[39m \u001b[33;03m    center: coordinates of circle center\u001b[39;00m\n\u001b[32m      7\u001b[39m \u001b[33;03m    radius: radius of circle (>= 0 required)\u001b[39;00m\n\u001b[32m      8\u001b[39m \u001b[33;03m    \"\"\"\u001b[39;00m\n\u001b[32m---> \u001b[39m\u001b[32m10\u001b[39m     \u001b[38;5;28;01massert\u001b[39;00m radius >= \u001b[32m0\u001b[39m, \u001b[33m\"\u001b[39m\u001b[33mRadius must be strictly positive\u001b[39m\u001b[33m\"\u001b[39m\n\u001b[32m     11\u001b[39m     \u001b[38;5;28mself\u001b[39m.ctr = center\n\u001b[32m     12\u001b[39m     \u001b[38;5;28mself\u001b[39m.rad = radius\n",
      "\u001b[31mAssertionError\u001b[39m: Radius must be strictly positive"
     ]
    }
   ],
   "source": [
    "Circle((1, 0), -1)"
   ]
  },
  {
   "cell_type": "markdown",
   "id": "143cd7b5-c5de-49ef-be02-955c5d83103a",
   "metadata": {},
   "source": [
    "- We can combine circles and rectangles in a list and work with them"
   ]
  },
  {
   "cell_type": "code",
   "execution_count": 12,
   "id": "98461c37-b058-4887-a34d-639218541326",
   "metadata": {},
   "outputs": [
    {
     "name": "stdout",
     "output_type": "stream",
     "text": [
      "314.1592653589793\n",
      "78.53981633974483\n",
      "3.75\n"
     ]
    }
   ],
   "source": [
    "shapes = [Circle((0, 0), 10), Circle((1, 1), 5), Rectangle((0.5, 0.5), (3, 2))]\n",
    "for shape in shapes:\n",
    "    print(shape.area())"
   ]
  },
  {
   "cell_type": "markdown",
   "id": "5eeed4dc-970c-44dc-801f-56e916a4d36e",
   "metadata": {},
   "source": [
    "#### Compare to procedural code"
   ]
  },
  {
   "cell_type": "code",
   "execution_count": 13,
   "id": "2f90273b-b3c5-49f5-8067-4fba719e1a99",
   "metadata": {},
   "outputs": [
    {
     "name": "stdout",
     "output_type": "stream",
     "text": [
      "314.1592653589793\n",
      "78.53981633974483\n",
      "3.75\n"
     ]
    }
   ],
   "source": [
    "def circle_area(radius):\n",
    "    return math.pi * radius ** 2\n",
    "\n",
    "def rectangle_area(lower_left, upper_right):\n",
    "    return (upper_right[0] - lower_left[0]) * (upper_right[1] - lower_left[1])\n",
    "\n",
    "shapes = [{'form': 'circle', 'center': (0, 0), 'radius': 10},\n",
    "          {'form': 'circle', 'center': (1, 1), 'radius': 5},\n",
    "          {'form': 'rectangle', 'lower_left': (0.5, 0.5), 'upper_right': (3, 2)}]\n",
    "\n",
    "for shape in shapes:\n",
    "    if shape['form'] == 'circle':\n",
    "        area = circle_area(shape['radius'])\n",
    "    elif shape['form'] == 'rectangle':\n",
    "        area = rectangle_area(shape['lower_left'], shape['upper_right'])\n",
    "    else:\n",
    "        raise ValueError('Unknown geometrical form.')\n",
    "    print(area)"
   ]
  },
  {
   "cell_type": "markdown",
   "id": "c92383ff-b8c0-4ecc-99a6-4e9e443f20b5",
   "metadata": {},
   "source": [
    "- Does the same thing\n",
    "- Code is more complex\n",
    "- Difficult to maintain for more shapes and more operations"
   ]
  },
  {
   "cell_type": "markdown",
   "id": "9ddf2397-fc40-411e-b704-8adc216166bc",
   "metadata": {},
   "source": [
    "### Example: Expose interface, hide implementation\n",
    "\n",
    "- Different implementation of `Rectangle` with same behavior"
   ]
  },
  {
   "cell_type": "code",
   "execution_count": 14,
   "id": "f84be6a5-6b25-4f6d-ae40-3eb89e6d4b10",
   "metadata": {},
   "outputs": [],
   "source": [
    "class Rectangle:\n",
    "    def __init__(self, lower_left, upper_right):\n",
    "        self.width = upper_right[0] - lower_left[0]\n",
    "        self.height = upper_right[1] - lower_left[1]\n",
    "        \n",
    "    def area(self):\n",
    "        return self.width * self.height"
   ]
  },
  {
   "cell_type": "code",
   "execution_count": 15,
   "id": "f2d94fa4-10d8-4d4a-8fbb-5d16a968d2ae",
   "metadata": {},
   "outputs": [
    {
     "name": "stdout",
     "output_type": "stream",
     "text": [
      "314.1592653589793\n",
      "78.53981633974483\n",
      "3.75\n"
     ]
    }
   ],
   "source": [
    "shapes = [Circle((0, 0), 10), Circle((1, 1), 5), Rectangle((0.5, 0.5), (3, 2))]\n",
    "for shape in shapes:\n",
    "    print(shape.area())"
   ]
  },
  {
   "cell_type": "markdown",
   "id": "7cbc7f5a-5c82-472b-92f7-e8ffcbfb8b62",
   "metadata": {},
   "source": [
    "- Same interface\n",
    "    - Same member functions\n",
    "    - Member functions take same arguments \n",
    "    - Member functions behave the same\n",
    "- Different implementation\n",
    "    - width and height vs corner coordinates\n",
    "    \n",
    "### \"Hiding\" internal attributes\n",
    "\n",
    "- Code using our class should only use the *interface*\n",
    "- We should attempt to change interface as little as possible\n",
    "- Need to tell class users what is interface, what implementation\n",
    "- Many OO languages (C++, Java, ...) have\n",
    "    - *private* members\n",
    "        - only accessible from methods of the class\n",
    "        - strictly enforced by compiler\n",
    "- Python\n",
    "    - no enforced privacy\n",
    "    - convention: member names beginning with `_` indicate implementation details\n",
    "    - are accessible, but the programmer using the class has been warned: \"`_abc` may disappear or change its meaning at any time, snoop around at your own risk\"\n",
    "    \n",
    "#### Rectangle class with \"hidden\" details"
   ]
  },
  {
   "cell_type": "code",
   "execution_count": 16,
   "id": "c683425c-532b-425b-b407-150399173c29",
   "metadata": {},
   "outputs": [],
   "source": [
    "class Rectangle:\n",
    "    def __init__(self, lower_left, upper_right):\n",
    "        self._ll = lower_left\n",
    "        self._width = upper_right[0] - lower_left[0]\n",
    "        self._height = upper_right[1] - lower_left[1]\n",
    "        \n",
    "    def area(self):\n",
    "        return self._width * self._height"
   ]
  },
  {
   "cell_type": "markdown",
   "id": "8512fb8d-2d20-4c01-8891-130d2a87113a",
   "metadata": {},
   "source": [
    "- Deciding what is interface and what is implementation detail is an important design decision\n",
    "- Depends on the problem we want to solve with our program\n",
    "- Guiding questions: \n",
    "    - Will the user of our program know about or care about this information?\n",
    "    - Is the data related to the actual problem at hand?"
   ]
  },
  {
   "cell_type": "markdown",
   "id": "d86f203e-110f-4d62-a28d-43384478a994",
   "metadata": {},
   "source": [
    "----------\n",
    "\n",
    "## Inheritance (subclassing)\n",
    "\n",
    "- Define a class covering the general case\n",
    "- Specialize into subclasses for specific cases\n",
    "- Essential in languages such as C++ and Java\n",
    "    - Containers such as lists, arrays, etc can only contain pointers to objects derived from the same base class\n",
    "- Useful in Python\n",
    "\n",
    "### Example: Modifying and extending a data type\n",
    "\n",
    "#### Base class"
   ]
  },
  {
   "cell_type": "code",
   "execution_count": 17,
   "id": "b21ef8ef-6488-45bf-acf4-15e4f4da472c",
   "metadata": {},
   "outputs": [],
   "source": [
    "class Member:\n",
    "    def __init__(self, name, number):\n",
    "        self.name = name\n",
    "        self.number = number\n",
    "    \n",
    "    def display(self):\n",
    "        print(f'Member: {self.name} (#{self.number})')        "
   ]
  },
  {
   "cell_type": "markdown",
   "id": "2fb21221-72c5-4797-87c2-3074e923a0f5",
   "metadata": {},
   "source": [
    "#### Subclass"
   ]
  },
  {
   "cell_type": "code",
   "execution_count": 18,
   "id": "ebcf0fdf-1da5-4daa-aa94-4bce65feba7b",
   "metadata": {},
   "outputs": [],
   "source": [
    "class Officer(Member):\n",
    "    def __init__(self, name, number, rank):\n",
    "        super().__init__(name, number)\n",
    "        self.rank = rank\n",
    "\n",
    "    def display(self):\n",
    "        print(f'{self.rank}: {self.name} (#{self.number})')        "
   ]
  },
  {
   "cell_type": "code",
   "execution_count": 19,
   "id": "f6b9b44e-2fcf-44d1-84e1-b9776c89ad56",
   "metadata": {},
   "outputs": [
    {
     "name": "stdout",
     "output_type": "stream",
     "text": [
      "President: Joe (#1)\n",
      "Treasurer: Jane (#2)\n",
      "Member: Jack (#3)\n"
     ]
    }
   ],
   "source": [
    "club = [Officer('Joe', 1, 'President'),\n",
    "        Officer('Jane', 2, 'Treasurer'),\n",
    "        Member('Jack', 3,)]\n",
    "for person in club:\n",
    "    person.display()"
   ]
  },
  {
   "cell_type": "markdown",
   "id": "9f648858-1118-4c8d-b6e2-bb13ede3ad2e",
   "metadata": {},
   "source": [
    "[Code on PythonTutor](https://pythontutor.com/visualize.html#code=class%20Member%3A%0A%20%20%20%20def%20__init__%28self,%20name,%20number%29%3A%0A%20%20%20%20%20%20%20%20self.name%20%3D%20name%0A%20%20%20%20%20%20%20%20self.number%20%3D%20number%0A%20%20%20%20%0A%20%20%20%20def%20display%28self%29%3A%0A%20%20%20%20%20%20%20%20print%28f'Member%3A%20%7Bself.name%7D%20%28%23%7Bself.number%7D%29'%29%20%20%20%20%20%20%20%20%0A%20%20%20%20%20%20%20%20%0Aclass%20Officer%28Member%29%3A%0A%20%20%20%20def%20__init__%28self,%20name,%20number,%20rank%29%3A%0A%20%20%20%20%20%20%20%20super%28%29.__init__%28name,%20number%29%0A%20%20%20%20%20%20%20%20self.rank%20%3D%20rank%0A%0A%20%20%20%20def%20display%28self%29%3A%0A%20%20%20%20%20%20%20%20print%28f'%7Bself.rank%7D%3A%20%7Bself.name%7D%20%28%23%7Bself.number%7D%29'%29%0A%0Aclub%20%3D%20%5BOfficer%28'Joe',%201,%20'President'%29,%0A%20%20%20%20%20%20%20%20Officer%28'Jane',%202,%20'Treasurer'%29,%0A%20%20%20%20%20%20%20%20Member%28'Jack',%203,%29%5D%0Afor%20person%20in%20club%3A%0A%20%20%20%20person.display%28%29&cumulative=true&heapPrimitives=nevernest&mode=edit&origin=opt-frontend.js&py=3&rawInputLstJSON=%5B%5D&textReferences=false)"
   ]
  },
  {
   "cell_type": "markdown",
   "id": "21513f61-6936-4d03-ac23-3858be1d98a4",
   "metadata": {},
   "source": [
    "### Terminology\n",
    "\n",
    "#### Inheritance (Subclassing)\n",
    "\n",
    "Creating a new class based on an existing class. The new class (subclass, derived class, daughter class) inherits the attributes of the existing class (superclass, base class, mother class).\n",
    "\n",
    "Inheritance typically reflects an *is-a*  relationship, while *has-a* relationships are expressed using attributes:\n",
    "- a tiger *is a* mammal\n",
    "- a friend *has a* name\n",
    "\n",
    "#### Defining subclasses\n",
    "\n",
    "```python\n",
    "class SubClassName(SuperClass):\n",
    "    \"\"\"Subclass documentation.\"\"\"\n",
    "    \n",
    "    # body\n",
    "```\n",
    "\n",
    "#### Subclass instantiation\n",
    "\n",
    "```python\n",
    "obj = SubClassName()\n",
    "```\n",
    "\n",
    "- All methods defined in the superclass are available in the subclass\n",
    "- The subclass can redefine any inherited method\n",
    "- The subclass can define new methods and add new attributes"
   ]
  },
  {
   "cell_type": "markdown",
   "id": "6ef8c616-6378-4cbe-83e8-15e8ebaca66c",
   "metadata": {},
   "source": [
    "### Constructors for subclasses\n",
    "\n",
    "#### Case A: No additional data members\n",
    "\n",
    "- The subclass inherits `__init__()` from its superclass just as it inherits any other method\n",
    "- Therefore, if the subclass has the same data members as the superclass, it does not need to define its own constructor: the superclass constructor will be used.\n",
    "\n",
    "#### Case B: Subclass with additional data members\n",
    "\n",
    "- Both the superclass members and the subclass members must be initialised\n",
    "- Subclass must defined its own constructor, i.e., override `__init__()`\n",
    "- Subclass constructor should call superclass constructor first, then initialise its own data members"
   ]
  },
  {
   "cell_type": "code",
   "execution_count": 20,
   "id": "e1fb0c37-a210-49ec-908d-53cfac193d2f",
   "metadata": {},
   "outputs": [],
   "source": [
    "class Officer(Member):\n",
    "    def __init__(self, name, number, rank):\n",
    "        super().__init__(name, number)\n",
    "        self.rank = rank\n",
    "\n",
    "    def display(self):\n",
    "        print(f'{self.rank}: {self.name} (#{self.number})')      "
   ]
  },
  {
   "cell_type": "markdown",
   "id": "349ba0b3-54b3-4672-9b25-2e77e458b522",
   "metadata": {},
   "source": [
    "### Subclasses of subclasses of ...\n",
    "\n",
    "- We can derive subclasses of any class\n",
    "- In principle, arbitrarily deep class hierarchies possible\n",
    "- In practice, keep hierarchies shallow!\n",
    "- All classes derive from built-in class `object` in the end\n",
    "- `__base__` attribute shows base class"
   ]
  },
  {
   "cell_type": "code",
   "execution_count": 21,
   "id": "c65c58ec-1c8c-4c03-89c1-60e27c2b4a75",
   "metadata": {},
   "outputs": [
    {
     "name": "stdout",
     "output_type": "stream",
     "text": [
      "<class 'object'>\n"
     ]
    }
   ],
   "source": [
    "print(Member.__base__)"
   ]
  },
  {
   "cell_type": "code",
   "execution_count": 22,
   "id": "411e68d9-6693-4331-8334-18f2ab308b13",
   "metadata": {},
   "outputs": [
    {
     "name": "stdout",
     "output_type": "stream",
     "text": [
      "<class '__main__.Member'>\n"
     ]
    }
   ],
   "source": [
    "print(Officer.__base__)"
   ]
  },
  {
   "cell_type": "code",
   "execution_count": 23,
   "id": "d01fcddc-9dd3-4e8b-a39a-a328e8cd39d5",
   "metadata": {},
   "outputs": [
    {
     "name": "stdout",
     "output_type": "stream",
     "text": [
      "None\n"
     ]
    }
   ],
   "source": [
    "print(object.__base__)"
   ]
  },
  {
   "cell_type": "markdown",
   "id": "2cba7816-1688-4789-9429-a5ed27e462c8",
   "metadata": {},
   "source": [
    "- `object` has no base class, it is the root of the class hierarchy."
   ]
  },
  {
   "cell_type": "markdown",
   "id": "badf6058-acc4-4eda-b4bf-38b31f1d7f4b",
   "metadata": {},
   "source": [
    "#### Who gets called when?—Method resolution order\n",
    "\n",
    "Define three classes `A > B > C` where each subclass redefines one method."
   ]
  },
  {
   "cell_type": "code",
   "execution_count": 24,
   "id": "96a6b9c4-d69f-43a0-bde8-071f089702b1",
   "metadata": {},
   "outputs": [],
   "source": [
    "class A:\n",
    "    def f(self): return 'A.f()'\n",
    "    def g(self): return 'A.g()'\n",
    "    def h(self): return 'A.h()'\n",
    "    \n",
    "class B(A):\n",
    "    def g(self): return 'B.g()'\n",
    "\n",
    "class C(B):\n",
    "    def h(self): return 'C.h()'"
   ]
  },
  {
   "cell_type": "markdown",
   "id": "9055c877-e019-42ca-871d-60a18487b1c1",
   "metadata": {},
   "source": [
    "[Code on Pythontutor](https://pythontutor.com/visualize.html#code=class%20A%3A%0A%20%20%20%20def%20f%28self%29%3A%20return%20'A.f%28%29'%0A%20%20%20%20def%20g%28self%29%3A%20return%20'A.g%28%29'%0A%20%20%20%20def%20h%28self%29%3A%20return%20'A.h%28%29'%0A%20%20%20%20%0Aclass%20B%28A%29%3A%0A%20%20%20%20def%20g%28self%29%3A%20return%20'B.g%28%29'%0A%0Aclass%20C%28B%29%3A%0A%20%20%20%20def%20h%28self%29%3A%20return%20'C.h%28%29'%0A%20%20%20%20%0Aa%20%3D%20A%28%29%0Ab%20%3D%20B%28%29%0Ac%20%3D%20C%28%29%0A%0Aprint%28a.f%28%29,%20a.g%28%29,%20a.h%28%29%29%0Aprint%28b.f%28%29,%20b.g%28%29,%20b.h%28%29%29%0Aprint%28c.f%28%29,%20c.g%28%29,%20c.h%28%29%29&cumulative=false&heapPrimitives=false&mode=edit&origin=opt-frontend.js&py=3&rawInputLstJSON=%5B%5D&textReferences=false)"
   ]
  },
  {
   "cell_type": "markdown",
   "id": "52caec1b-babc-422e-97d0-27fcb3d9a0cf",
   "metadata": {},
   "source": [
    "Create one instance per class."
   ]
  },
  {
   "cell_type": "code",
   "execution_count": 25,
   "id": "91ec1cd6-a32d-4606-beb5-2121febc986b",
   "metadata": {},
   "outputs": [],
   "source": [
    "a = A()\n",
    "b = B()\n",
    "c = C()"
   ]
  },
  {
   "cell_type": "markdown",
   "id": "d3679ec4-168f-4240-a7ed-97565858d41f",
   "metadata": {},
   "source": [
    "Call methods on `A` instance"
   ]
  },
  {
   "cell_type": "code",
   "execution_count": 26,
   "id": "788e206c-19db-48ea-bf3c-e0dd39380f15",
   "metadata": {},
   "outputs": [
    {
     "name": "stdout",
     "output_type": "stream",
     "text": [
      "A.f() A.g() A.h()\n"
     ]
    }
   ],
   "source": [
    "print(a.f(), a.g(), a.h())"
   ]
  },
  {
   "cell_type": "markdown",
   "id": "f730778f-aa5a-49c4-b87a-6672f3e1514a",
   "metadata": {},
   "source": [
    "Call methods on `B` instance"
   ]
  },
  {
   "cell_type": "code",
   "execution_count": 27,
   "id": "4fa64efd-65c1-4561-bb6f-4f104ed50e05",
   "metadata": {},
   "outputs": [
    {
     "name": "stdout",
     "output_type": "stream",
     "text": [
      "A.f() B.g() A.h()\n"
     ]
    }
   ],
   "source": [
    "print(b.f(), b.g(), b.h())"
   ]
  },
  {
   "cell_type": "markdown",
   "id": "951964f6-3bf1-4fc0-ac0f-4b67b244ec9e",
   "metadata": {},
   "source": [
    "Call methods on `C` instance"
   ]
  },
  {
   "cell_type": "code",
   "execution_count": 28,
   "id": "fa77ead3-a43d-45da-95c1-99f37c3847dc",
   "metadata": {},
   "outputs": [
    {
     "name": "stdout",
     "output_type": "stream",
     "text": [
      "A.f() B.g() C.h()\n"
     ]
    }
   ],
   "source": [
    "print(c.f(), c.g(), c.h())"
   ]
  },
  {
   "cell_type": "markdown",
   "id": "f8d47af7-7f8f-41af-b481-0aaf64d2dd80",
   "metadata": {},
   "source": [
    "- Methods are looked up from bottom and up\n",
    "    1. instance\n",
    "    1. class\n",
    "    1. superclasses in ascending order\n",
    "    1. `object`\n",
    "- Lookup order is available as attribute `__mro__` (method resolution order)"
   ]
  },
  {
   "cell_type": "code",
   "execution_count": 29,
   "id": "8cee5a7e-78f5-434b-9792-29c2bb90b149",
   "metadata": {},
   "outputs": [
    {
     "data": {
      "text/plain": [
       "(__main__.A, object)"
      ]
     },
     "execution_count": 29,
     "metadata": {},
     "output_type": "execute_result"
    }
   ],
   "source": [
    "A.__mro__"
   ]
  },
  {
   "cell_type": "code",
   "execution_count": 30,
   "id": "d9d6b56e-35d3-4012-886a-519b141f902c",
   "metadata": {},
   "outputs": [
    {
     "data": {
      "text/plain": [
       "(__main__.B, __main__.A, object)"
      ]
     },
     "execution_count": 30,
     "metadata": {},
     "output_type": "execute_result"
    }
   ],
   "source": [
    "B.__mro__"
   ]
  },
  {
   "cell_type": "code",
   "execution_count": 31,
   "id": "3e303c1a-9da3-49dd-8596-ffc4b06a3b05",
   "metadata": {},
   "outputs": [
    {
     "data": {
      "text/plain": [
       "(__main__.C, __main__.B, __main__.A, object)"
      ]
     },
     "execution_count": 31,
     "metadata": {},
     "output_type": "execute_result"
    }
   ],
   "source": [
    "C.__mro__"
   ]
  },
  {
   "cell_type": "markdown",
   "id": "8e04aebc-7bda-4835-b0ff-cce04eee4992",
   "metadata": {},
   "source": [
    "------------------------------------------\n",
    "\n",
    "## Names, Namespaces, and Scopes\n",
    "\n",
    "### Why worry about names?\n",
    "\n",
    "1. Programs execute functions to manipulate data.\n",
    "1. Data and functions are stored as sequences of bits in memory.\n",
    "1. We need *names* to refer to data and functions in our programs.\n",
    "1. In large programs\n",
    "    - the same name may be used or different purposes in different places\n",
    "    - it is impossible to keep an overview over all names\n",
    "    - E.g.: what do you get if you run `from xyz import *`?\n",
    "1. Solution: *namespaces* and *scoping rules*\n",
    "\n",
    "#### Namespaces (navnerom)\n",
    "Namespaces help to keep names organized.\n",
    "\n",
    "#### Scoping rules (regler for gyldighetsområder)\n",
    "Scoping rules define which namespace applies in each part of a program.\n",
    "\n",
    "### How do we bind names to objects in Python?\n",
    "\n",
    "Operation  |  Example  | Name bound\n",
    ":- | :- | -\n",
    "Assignment | `x = 2`| `x`\n",
    "Function definition | `def f(): pass` | `f`\n",
    "Class definition | `class A: pass`  | `A`\n",
    "Module import | `import math` | `math`\n",
    "| | `import math as m` | `m` \n",
    "| | `from math import sin` | `sin` \n",
    "\n",
    "[Code on Pythontutor](https://pythontutor.com/visualize.html#code=x%20%3D%202%0A%0Adef%20f%28%29%3A%0A%20%20%20%20pass%0A%0Aclass%20A%3A%0A%20%20%20%20pass%0A%0Aimport%20math%0Aimport%20math%20as%20m%0Afrom%20math%20import%20sin&cumulative=false&heapPrimitives=true&mode=edit&origin=opt-frontend.js&py=3&rawInputLstJSON=%5B%5D&textReferences=false)\n",
    "\n",
    "#### Definitions are statements\n",
    "\n",
    "Definitions are statements in Python programs. They are executed just as all other statements.\n",
    "\n",
    "#### Presentation on topic\n",
    "\n",
    "- See also https://nedbatchelder.com/text/names1.html"
   ]
  },
  {
   "cell_type": "markdown",
   "id": "4811aa19-71c9-4243-b52e-28b54010895b",
   "metadata": {},
   "source": [
    "### Where are names bound?\n",
    "\n",
    "<img src=\"L08_NamesBound.png\" width=\"60%\">\n",
    "\n",
    "[Code on Pythontutor](http://www.pythontutor.com/visualize.html#code=class%20Friend%3A%0A%20%20%20%20%0A%20%20%20%20greeting%20%3D%20'Hi,%20'%0A%20%20%20%20%0A%20%20%20%20def%20__init__%28self,%20name%29%3A%0A%20%20%20%20%20%20%20%20self.name%20%3D%20name%0A%20%20%20%20%20%20%20%20%0A%20%20%20%20def%20greet%28self%29%3A%0A%20%20%20%20%20%20%20%20text%20%3D%20Friend.greeting%20%2B%20self.name%0A%20%20%20%20%20%20%20%20print%28text%29%0A%20%20%20%20%20%20%20%20%0Ajoe%20%3D%20Friend%28'Joe'%29%0Ajoe.greet%28%29%0A&cumulative=false&curInstr=0&heapPrimitives=false&mode=display&origin=opt-frontend.js&py=3&rawInputLstJSON=%5B%5D&textReferences=false)"
   ]
  },
  {
   "cell_type": "markdown",
   "id": "20e0c5af-afe5-4b0f-a1ac-b75996113a8a",
   "metadata": {},
   "source": [
    "### Name-binding rules\n",
    "\n",
    "- When a name is bound, it is registered in *exactly one namespace*\n",
    "- Available namespaces\n",
    "    - `__builtin__` namespace of Python interepreter\n",
    "    - each module has a namespace (each imported `*.py` file)\n",
    "    - each class has a namespace\n",
    "    - each class *instance* has a namespace\n",
    "    - each function *invocation* has a namespace\n",
    "- In which namespace is a name registered?\n",
    "    - In the namespace of the *innermost scope*\n",
    "    - Inside a list comprehension: in the comprehension's namespace\n",
    "    - Inside function definitions: in the function invocation's namespace\n",
    "    - Inside class definitions: in the class' namespace\n",
    "    - Otherwise, in the module's namespace\n",
    "- Example of name binding in recursive function calls: \n",
    "[Code on Pythontutor](http://pythontutor.com/visualize.html#code=def%20factorial%28n%29%3A%0A%20%20%20%20if%20n%20%3C%3D%201%3A%0A%20%20%20%20%20%20%20%20res%20%3D%201%0A%20%20%20%20else%3A%0A%20%20%20%20%20%20%20%20res%20%3D%20n%20*%20factorial%28n-1%29%0A%20%20%20%20return%20res%0A%20%20%20%20%20%20%20%20%0Aprint%28factorial%283%29%29%0A&cumulative=false&curInstr=0&heapPrimitives=false&mode=display&origin=opt-frontend.js&py=3&rawInputLstJSON=%5B%5D&textReferences=false)"
   ]
  },
  {
   "cell_type": "markdown",
   "id": "4a95d31e-860c-4357-9a13-9746fe8b0d0a",
   "metadata": {},
   "source": [
    "### Where are names looked up?\n",
    "\n",
    "<img src=\"L08_NamesLookup.png\" width=\"60%\">"
   ]
  },
  {
   "cell_type": "markdown",
   "id": "351aafd5-9415-40f4-8a26-13884f82da58",
   "metadata": {},
   "source": [
    "### Name-lookup rules\n",
    "\n",
    "- When we use a name, Python must loop up the name and find the object it refers to\n",
    "- In which namespace does Python look?\n",
    "- **LEGB rule** (Mark Lutz, *Learning Python*)\n",
    "    - **L—Local:** Namespace of the function invocation currently executing\n",
    "    - **E—Enclosing:** Namespaces of all functions enclosing the definition of the current function (ignore for now)\n",
    "    - **G—Global:** Namespace of module in which the current function *was defined*\n",
    "    - **B—Builtin:** Namespace of Python builtins\n",
    "- Exceptions can be forced with `global` and `nonlocal` keywords (avoid for now)\n",
    "\n",
    "### Attribute lookup with \"dot\"\n",
    "\n",
    "- Modules, classes, and instances have attributes\n",
    "- Attribute names are bound inside module, class, instancance namespace\n",
    "- Accessible through the dot-operator:"
   ]
  },
  {
   "cell_type": "code",
   "execution_count": 32,
   "id": "99433e16-6d99-40f2-8b26-2d18f3607713",
   "metadata": {},
   "outputs": [
    {
     "name": "stdout",
     "output_type": "stream",
     "text": [
      "Joe\n"
     ]
    }
   ],
   "source": [
    "class Friend:\n",
    "    \n",
    "    greeting = 'Hi, '\n",
    "    \n",
    "    def __init__(self, name):\n",
    "        self.name = name\n",
    "        \n",
    "    def greet(self):\n",
    "        text = Friend.greeting + self.name\n",
    "        print(text)\n",
    "        \n",
    "joe = Friend('Joe')\n",
    "print(joe.name)"
   ]
  },
  {
   "cell_type": "code",
   "execution_count": 33,
   "id": "b3a6babb-4f4e-422b-b534-7b6258a51d6c",
   "metadata": {},
   "outputs": [
    {
     "name": "stdout",
     "output_type": "stream",
     "text": [
      "Hi, Joe Doe\n"
     ]
    }
   ],
   "source": [
    "joe.name = 'Joe Doe'\n",
    "joe.greet()"
   ]
  },
  {
   "cell_type": "code",
   "execution_count": 34,
   "id": "930c3540-a789-44a0-a446-cf781dbc81a5",
   "metadata": {},
   "outputs": [
    {
     "name": "stdout",
     "output_type": "stream",
     "text": [
      "Hello, Joe Doe\n"
     ]
    }
   ],
   "source": [
    "Friend.greeting = 'Hello, '\n",
    "joe.greet()"
   ]
  },
  {
   "cell_type": "markdown",
   "id": "299835a7-4646-449f-b306-e721419d2242",
   "metadata": {},
   "source": [
    "### Attribute lookup in instances vs classes\n",
    "\n",
    "<img src=\"L08_NamesInstanceClass.png\" width=\"45%\">"
   ]
  },
  {
   "cell_type": "markdown",
   "id": "68962a88-0ef0-4e4d-ac1f-07c4b540a1d2",
   "metadata": {},
   "source": [
    "### Pitfall: Duplicate attribute names\n",
    "\n",
    "- Python uses the same namespace for methods and data attributes\n",
    "- Names are looked up in the instance namespace first, then in the class namespace\n",
    "- This may lead to surprises when using the same name in multiple places"
   ]
  },
  {
   "cell_type": "code",
   "execution_count": 35,
   "id": "dc33b39e-20f8-4309-b065-4799e4c5b01b",
   "metadata": {},
   "outputs": [],
   "source": [
    "class Friend:\n",
    "    def __init__(self, name):\n",
    "        self.name = name\n",
    "    def greet(self):\n",
    "        print('Hi,', self.name)\n",
    "    def name(self):\n",
    "        print('Your name is', self.name)"
   ]
  },
  {
   "cell_type": "code",
   "execution_count": 36,
   "id": "493f15a0-47a1-4ef2-9e24-138df401752c",
   "metadata": {},
   "outputs": [
    {
     "name": "stdout",
     "output_type": "stream",
     "text": [
      "Hi, Joe\n"
     ]
    }
   ],
   "source": [
    "joe = Friend('Joe')\n",
    "joe.greet()"
   ]
  },
  {
   "cell_type": "code",
   "execution_count": 37,
   "id": "4dfb7485-e258-406c-b157-2267ac6d8f90",
   "metadata": {},
   "outputs": [
    {
     "ename": "TypeError",
     "evalue": "'str' object is not callable",
     "output_type": "error",
     "traceback": [
      "\u001b[31m---------------------------------------------------------------------------\u001b[39m",
      "\u001b[31mTypeError\u001b[39m                                 Traceback (most recent call last)",
      "\u001b[36mCell\u001b[39m\u001b[36m \u001b[39m\u001b[32mIn[37]\u001b[39m\u001b[32m, line 1\u001b[39m\n\u001b[32m----> \u001b[39m\u001b[32m1\u001b[39m \u001b[43mjoe\u001b[49m\u001b[43m.\u001b[49m\u001b[43mname\u001b[49m\u001b[43m(\u001b[49m\u001b[43m)\u001b[49m\n",
      "\u001b[31mTypeError\u001b[39m: 'str' object is not callable"
     ]
    }
   ],
   "source": [
    "joe.name()"
   ]
  },
  {
   "cell_type": "markdown",
   "id": "a917a61f",
   "metadata": {},
   "source": [
    "- What happended here?\n",
    "    - Lookup starts with the instance, where we find the string stored in `self.name``\n",
    "    - Then Python tries to call this string as a function because of the `()` after `joe.name`\n",
    "    - Lookup stops at first match and thus never sees the method `name(self)` in this case"
   ]
  },
  {
   "cell_type": "markdown",
   "id": "f60b60e0-10d5-45d8-8cd7-4c843f224c3c",
   "metadata": {},
   "source": [
    "[Code on Pythontutor](http://www.pythontutor.com/visualize.html#code=class%20Friend%3A%0A%20%20%20%20def%20__init__%28self,%20name%29%3A%0A%20%20%20%20%20%20%20%20self.name%20%3D%20name%0A%20%20%20%20def%20greet%28self%29%3A%0A%20%20%20%20%20%20%20%20print%28'Hi,',%20self.name%29%0A%20%20%20%20def%20name%28self%29%3A%0A%20%20%20%20%20%20%20%20print%28'Your%20name%20is',%20self.name%29%0A%20%20%20%20%20%20%20%20%0Ajoe%20%3D%20Friend%28'Joe'%29%0Ajoe.greet%28%29%0Ajoe.name%28%29&cumulative=false&curInstr=0&heapPrimitives=false&mode=display&origin=opt-frontend.js&py=3&rawInputLstJSON=%5B%5D&textReferences=false)"
   ]
  },
  {
   "cell_type": "markdown",
   "id": "c45abb70-3729-421d-9c19-a7998e5290b5",
   "metadata": {},
   "source": [
    "------\n",
    "\n",
    "## Copying objects\n",
    "\n",
    "### Assignment only adds new name to existing object"
   ]
  },
  {
   "cell_type": "code",
   "execution_count": 38,
   "id": "fa903f8c-0f65-45be-bccd-4413cd29a937",
   "metadata": {},
   "outputs": [
    {
     "name": "stdout",
     "output_type": "stream",
     "text": [
      "20 20\n"
     ]
    }
   ],
   "source": [
    "class A:\n",
    "    pass\n",
    "a = A()\n",
    "a.x = 10\n",
    "b = a\n",
    "b.x = 20\n",
    "print(a.x, b.x)"
   ]
  },
  {
   "cell_type": "markdown",
   "id": "8f94404e-1afb-40e6-9fe9-73b2f3d933e4",
   "metadata": {},
   "source": [
    "- `a` and `b` are two names for the same object\n",
    "- [Code on PythonTutor](http://www.pythontutor.com/visualize.html#code=class%20A%3A%0A%20%20%20%20pass%0Aa%20%3D%20A%28%29%0Aa.x%20%3D%2010%0Ab%20%3D%20a%0Ab.x%20%3D%2020%0Aprint%28a.x,%20b.x%29%0A&cumulative=false&curInstr=0&heapPrimitives=false&mode=display&origin=opt-frontend.js&py=3&rawInputLstJSON=%5B%5D&textReferences=false)"
   ]
  },
  {
   "cell_type": "markdown",
   "id": "b2d00fed-921d-4637-ba7a-e29a38d806c2",
   "metadata": {},
   "source": [
    "### The Python `copy` module\n",
    "\n",
    "- `copy` provides functions for copying objects\n",
    "- [Code on PythonTutor](http://www.pythontutor.com/visualize.html#code=import%20copy%0Aclass%20A%3A%0A%20%20%20%20pass%0Aa%20%3D%20A%28%29%0Aa.x%20%3D%2010%0Ab%20%3D%20a%0Ab.x%20%3D%2020%0Ac%20%3D%20copy.copy%28a%29%0Ac.x%20%3D%2050%0Aprint%28a.x,%20b.x,%20c.x%29%0A&cumulative=false&curInstr=0&heapPrimitives=false&mode=display&origin=opt-frontend.js&py=3&rawInputLstJSON=%5B%5D&textReferences=false)"
   ]
  },
  {
   "cell_type": "code",
   "execution_count": 39,
   "id": "eb26f290-c4c9-4f66-9bce-e5474d52a1e0",
   "metadata": {},
   "outputs": [
    {
     "name": "stdout",
     "output_type": "stream",
     "text": [
      "20 20 50\n"
     ]
    }
   ],
   "source": [
    "import copy\n",
    "c = copy.copy(a)\n",
    "c.x = 50\n",
    "print(a.x, b.x, c.x)"
   ]
  },
  {
   "cell_type": "markdown",
   "id": "62b169d7-4d32-4628-b0e6-e3ad9b915ee5",
   "metadata": {},
   "source": [
    "#### Copying: Details"
   ]
  },
  {
   "cell_type": "code",
   "execution_count": 40,
   "id": "f61944bf-5111-4880-b10d-ec456392fc4c",
   "metadata": {},
   "outputs": [
    {
     "name": "stdout",
     "output_type": "stream",
     "text": [
      "0x108182a50 0x1081dd950\n",
      "0x10e8cd970 0x10e8cd970\n"
     ]
    }
   ],
   "source": [
    "class S:\n",
    "    pass\n",
    "\n",
    "s = S()\n",
    "s.m = 'Nice weather today.'\n",
    "t = copy.copy(s)\n",
    "print(hex(id(s)), hex(id(t)))\n",
    "print(hex(id(s.m)), hex(id(t.m)))"
   ]
  },
  {
   "cell_type": "markdown",
   "id": "6ac18d8f-350d-405d-9b49-cabfff35fef1",
   "metadata": {},
   "source": [
    "- `s` and `t` have *different* `id()`: they are *different `S` instances*\n",
    "- `s.m` and `t.m` have the same `id()`: they are the *same string instance*\n",
    "- `copy.copy()` is a *shallow copy*: `t` is a new instance with its own namespace, but the names refer to the same objects as in `s`\n",
    "- Assignment to a member re-binds the name to a new string object"
   ]
  },
  {
   "cell_type": "code",
   "execution_count": 41,
   "id": "07bd3217-4922-473f-964d-02598a79a6c9",
   "metadata": {},
   "outputs": [
    {
     "name": "stdout",
     "output_type": "stream",
     "text": [
      "0x108182a50 0x1081dd950\n",
      "0x10e8cd970 0x10e88ff00\n"
     ]
    }
   ],
   "source": [
    "t.m = 'The forecast for tomorrow is also nice.'\n",
    "print(hex(id(s)), hex(id(t)))\n",
    "print(hex(id(s.m)), hex(id(t.m)))"
   ]
  },
  {
   "cell_type": "markdown",
   "id": "020f1605-9f6b-4206-8c07-e934d9830f4a",
   "metadata": {},
   "source": [
    "- [Explore on PythonTutor](http://www.pythontutor.com/visualize.html#code=import%20copy%0Aclass%20S%28object%29%3A%0A%20%20%20%20pass%0A%0As%20%3D%20S%28%29%0As.m%20%3D%20'Nice%20weather%20today.'%0At%20%3D%20copy.copy%28s%29%0At.m%20%3D%20'The%20forecast%20for%20tomorrow%20is%20also%20nice.'%0A&cumulative=false&curInstr=0&heapPrimitives=true&mode=display&origin=opt-frontend.js&py=3&rawInputLstJSON=%5B%5D&textReferences=false)"
   ]
  },
  {
   "cell_type": "markdown",
   "id": "e1aac965-37bf-4743-ac42-31b8c563093a",
   "metadata": {},
   "source": [
    "### Copying object with mutable members: deep copy\n",
    "\n",
    "- Mutables: lists, dictionaries, objects of most classes\n",
    "- What does shallow copy mean for objects with mutable members?"
   ]
  },
  {
   "cell_type": "code",
   "execution_count": 42,
   "id": "a61469d0-8abe-42eb-a51e-7e88032c7ac1",
   "metadata": {},
   "outputs": [
    {
     "name": "stdout",
     "output_type": "stream",
     "text": [
      "[1, 2, 3, 4] [1, 2, 3, 4]\n",
      "0x10e8c9f00 0x10e8c9f00\n"
     ]
    }
   ],
   "source": [
    "u = S()\n",
    "u.m = [1, 2, 3]\n",
    "v = copy.copy(u)\n",
    "u.m.append(4)\n",
    "print(u.m, v.m)\n",
    "print (hex(id(u.m)), hex(id(v.m)))"
   ]
  },
  {
   "cell_type": "markdown",
   "id": "e6f8e1bd-b908-4b63-acee-4d5e3a355ce8",
   "metadata": {},
   "source": [
    "- Lists are changed in *both* `u` and `v` because their `m` refers to the same list object\n",
    "- Solution: *deep copy*"
   ]
  },
  {
   "cell_type": "code",
   "execution_count": 43,
   "id": "52714826-4e4e-4332-9cff-6ff284c1d5b7",
   "metadata": {},
   "outputs": [
    {
     "name": "stdout",
     "output_type": "stream",
     "text": [
      "[1, 2, 3, 4] [1, 2, 3, 4] [1, 2, 3, 4]\n",
      "0x10e8c9f00 0x10e8c9f00 0x10e8c9700\n"
     ]
    }
   ],
   "source": [
    "w = copy.deepcopy(u)\n",
    "print(u.m, v.m, w.m)\n",
    "print (hex(id(u.m)), hex(id(v.m)), hex(id(w.m)))"
   ]
  },
  {
   "cell_type": "markdown",
   "id": "3ae163f3-e5ce-4868-b581-6c7ef86b4c34",
   "metadata": {},
   "source": [
    "- Note that `w.m` has a different `id`"
   ]
  },
  {
   "cell_type": "code",
   "execution_count": 44,
   "id": "40a47f04-fb21-408b-91d9-a07e7a9b609b",
   "metadata": {},
   "outputs": [
    {
     "name": "stdout",
     "output_type": "stream",
     "text": [
      "[1, 2, 3, 4] [1, 2, 3, 4] [1, 2, 3, 4, 5]\n"
     ]
    }
   ],
   "source": [
    "w.m.append(5)\n",
    "print(u.m, v.m, w.m)"
   ]
  },
  {
   "cell_type": "markdown",
   "id": "fc18dc4c-5100-4355-b0b6-e3b3c28e4567",
   "metadata": {},
   "source": [
    "- Since `w.m` is a different list instance, `u.m` and `v.m` are not changed\n",
    "- `copy.deepcopy()` also works for classes we write ourselves"
   ]
  },
  {
   "cell_type": "code",
   "execution_count": 45,
   "id": "983b3188-313d-4c16-8566-f89537c1be0f",
   "metadata": {},
   "outputs": [
    {
     "name": "stdout",
     "output_type": "stream",
     "text": [
      "10 10 20\n"
     ]
    }
   ],
   "source": [
    "class V:\n",
    "    def __init__(self, x, y):\n",
    "        self.x, self.y = x, y\n",
    "        \n",
    "class C:\n",
    "    def __init__(self, ctr, r):\n",
    "        self.ctr, self.r = ctr, r\n",
    "        \n",
    "b = C(V(0, 0), 1)\n",
    "c = copy.copy(b)\n",
    "d = copy.deepcopy(b)\n",
    "\n",
    "c.ctr.x = 10\n",
    "d.ctr.x = 20\n",
    "\n",
    "print(b.ctr.x, c.ctr.x, d.ctr.x)"
   ]
  },
  {
   "cell_type": "markdown",
   "id": "77174890-ac1e-4165-a6a2-589a7fe9f336",
   "metadata": {},
   "source": [
    "**Forgetting the difference between shallow and deep copy is a common source of errors in Python programs!**"
   ]
  },
  {
   "cell_type": "markdown",
   "id": "34714510",
   "metadata": {},
   "source": [
    "-------------------\n",
    "\n",
    "## Defining new data types\n",
    "\n",
    "- OO Idea 1: Combine data and behavior into *new data types*\n",
    "- Problem: How to make our classes behave more like built-in data types\n",
    "    - nice printing\n",
    "    - comparison between instances (e.g., sorting `Member`s)\n",
    "    - mathematical operations (e.g., computing with vectors)\n",
    "- Solution: Operator overloading\n",
    "- See, e.g., Langtangen ch 7.3-7.5 (4th edition)\n",
    "- **Overloading**: Giving an operation a (new) meaning.\n",
    "\n",
    "### Overloading in Python\n",
    "\n",
    "- All classes inherit from `object` methods for\n",
    "    - initialization (constructor)\n",
    "    - string representation (printing)\n",
    "    - comparison (by `id`)\n",
    "    - etc\n",
    "- Operations are implemented by `__xxxxxx__()` methods\n",
    "- We can *overload* these functions to define behavior for our classes\n",
    "- First example: constructor `__init__()`\n",
    "\n",
    "#### Defining the string representation of objects"
   ]
  },
  {
   "cell_type": "code",
   "execution_count": 46,
   "id": "25f018cf",
   "metadata": {},
   "outputs": [
    {
     "name": "stdout",
     "output_type": "stream",
     "text": [
      "<__main__.Member object at 0x1081830e0> <__main__.Member object at 0x1081de850>\n"
     ]
    }
   ],
   "source": [
    "class Member:\n",
    "    def __init__(self, name, number):\n",
    "        self.name, self.number = name, number\n",
    "\n",
    "    def display(self):\n",
    "        print(f\"Member: {self.name} (#{self.number})\")\n",
    "        \n",
    "joe = Member('Joe', 123)\n",
    "jane = Member('Jane', 456)\n",
    "\n",
    "print(joe, jane)"
   ]
  },
  {
   "cell_type": "markdown",
   "id": "854fe38b",
   "metadata": {},
   "source": [
    "- Default string representation from `object`\n",
    "- Not useful\n",
    "- Add string representation methods `__str__()` and `__repr__()`"
   ]
  },
  {
   "cell_type": "code",
   "execution_count": 47,
   "id": "391b5eab",
   "metadata": {},
   "outputs": [
    {
     "name": "stdout",
     "output_type": "stream",
     "text": [
      "Member: Joe (#123)\n",
      "Member: Jane (#456)\n",
      "[Member('Joe', 123), Member('Jane', 456)]\n"
     ]
    }
   ],
   "source": [
    "class Member:\n",
    "    def __init__(self, name, number):\n",
    "        self.name, self.number = name, number\n",
    "        \n",
    "    def __str__(self):\n",
    "        return f\"Member: {self.name} (#{self.number})\"\n",
    "\n",
    "    def __repr__(self):\n",
    "        return f\"Member('{self.name}', {self.number})\"\n",
    "\n",
    "    def display(self):\n",
    "        print(f\"Member: {self.name} (#{self.number})\")\n",
    "        \n",
    "joe = Member('Joe', 123)\n",
    "jane = Member('Jane', 456)\n",
    "\n",
    "print(joe)\n",
    "print(jane)\n",
    "print([joe, jane])"
   ]
  },
  {
   "cell_type": "code",
   "execution_count": 48,
   "id": "873cc41a",
   "metadata": {},
   "outputs": [],
   "source": [
    "l = [joe, jane]"
   ]
  },
  {
   "cell_type": "code",
   "execution_count": 49,
   "id": "b75d0b13",
   "metadata": {},
   "outputs": [
    {
     "name": "stdout",
     "output_type": "stream",
     "text": [
      "[Member('Joe', 123), Member('Jane', 456)]\n"
     ]
    }
   ],
   "source": [
    "print(l)"
   ]
  },
  {
   "cell_type": "code",
   "execution_count": 50,
   "id": "87cdee56",
   "metadata": {},
   "outputs": [
    {
     "name": "stdout",
     "output_type": "stream",
     "text": [
      "Member: Joe (#123)\n"
     ]
    }
   ],
   "source": [
    "print(l[0])"
   ]
  },
  {
   "cell_type": "markdown",
   "id": "308230e1",
   "metadata": {},
   "source": [
    "- The two string representation methods:\n",
    "    - **`__str__()`**\n",
    "        - called by `print` and `str` if it exists\n",
    "        - should return \"user friendly\" display of instance\n",
    "    - **`__repr__()`**\n",
    "        - called in all other cases\n",
    "        - also called by `print` and `str` if\n",
    "            - `__str__()` is not defined\n",
    "            - the instance is part of a list, tuple or dictionary\n",
    "        - should return a string that can be used to recreate the object\n",
    "    - Both methods must return a string\n",
    "    - If you want to implement only one of the two, implement `__repr__()`\n",
    "- We can re-define the `display()` method in terms of `__str__()`\n",
    "    - Note that `print(self)` inside a method is equivalent to `print(self.__str__())`"
   ]
  },
  {
   "cell_type": "code",
   "execution_count": 51,
   "id": "ebedad3a",
   "metadata": {},
   "outputs": [],
   "source": [
    "class Member:\n",
    "    def __init__(self, name, number):\n",
    "        self.name, self.number = name, number\n",
    "        \n",
    "    def __str__(self):\n",
    "        return f\"Member: {self.name} (#{self.number})\"\n",
    "\n",
    "    def __repr__(self):\n",
    "        return f\"Member('{self.name}', {self.number})\"\n",
    "\n",
    "    def display(self):\n",
    "        print(self)"
   ]
  },
  {
   "cell_type": "markdown",
   "id": "b97a5f97",
   "metadata": {},
   "source": [
    "- In subclasses, we now only need to override `__str__()` and `__repr__()`, but not `display()`"
   ]
  },
  {
   "cell_type": "code",
   "execution_count": 52,
   "id": "0d7fa109",
   "metadata": {},
   "outputs": [],
   "source": [
    "class Officer(Member):\n",
    "    def __init__(self, name, number, rank):\n",
    "        Member.__init__(self, name, number)\n",
    "        self.rank = rank\n",
    "\n",
    "    def __str__(self):\n",
    "        return f\"{self.rank}: {self.name} (#{self.number})\"\n",
    "\n",
    "    def __repr__(self):\n",
    "        return f\"Officer('{self.name}', {self.number}, '{self.rank}')\"\n",
    "\n",
    "jack = Officer('Jack', 789, 'President')"
   ]
  },
  {
   "cell_type": "code",
   "execution_count": 53,
   "id": "9a97e3b2",
   "metadata": {},
   "outputs": [
    {
     "name": "stdout",
     "output_type": "stream",
     "text": [
      "Members as list: [Member('Joe', 123), Member('Jane', 456), Officer('Jack', 789, 'President')]\n",
      "Member: Joe (#123)\n",
      "Member: Jane (#456)\n",
      "President: Jack (#789)\n"
     ]
    }
   ],
   "source": [
    "members = [joe, jane, jack]\n",
    "print(\"Members as list:\", members)\n",
    "for member in members:\n",
    "    member.display()"
   ]
  },
  {
   "cell_type": "markdown",
   "id": "a9be9a55",
   "metadata": {},
   "source": [
    "### Defining mathematical operations\n",
    "\n",
    "- `+`, `-`, `*`, `/` and further mathematical operators can be defined for classes\n",
    "- See http://docs.python.org/library/operator.html for a complete list\n",
    "- No default definitions are inherited from `object`: only what you provide is available\n",
    "- Think carefully about what definitions may make sense, e.g.,\n",
    "    - string addition: concatenation\n",
    "    - string times integer n: concatenate string with itself n times\n",
    "    - subtraction and division not definable for string\n",
    "- Methods: `__add__`, `__sub__`, `__mul__`, `__truediv__`\n",
    "- `a + b` is equivalent to `a.__add__(b)`\n",
    "- Below\n",
    "    - `lhs`: left-hand side\n",
    "    - `rhs`: right-hand side"
   ]
  },
  {
   "cell_type": "code",
   "execution_count": 54,
   "id": "35a75560",
   "metadata": {},
   "outputs": [],
   "source": [
    "class Vector:\n",
    "\n",
    "    def __init__(self, x, y):\n",
    "        self.x = x\n",
    "        self.y = y\n",
    "\n",
    "    def __repr__(self):\n",
    "        return f'Vector({self.x}, {self.y})'\n",
    "\n",
    "    def __add__(self, rhs):\n",
    "        return Vector(self.x + rhs.x, self.y + rhs.y)\n",
    "\n",
    "    def __sub__(self, rhs):\n",
    "        return Vector(self.x - rhs.x, self.y - rhs.y)\n",
    "\n",
    "    def __mul__(self, rhs):\n",
    "        return Vector(self.x * rhs, self.y * rhs)\n",
    "\n",
    "    def __rmul__(self, lhs):\n",
    "        return self * lhs\n",
    "\n",
    "    def __truediv__(self, rhs):\n",
    "        return self * (1. / rhs)\n",
    "\n",
    "    def norm(self):\n",
    "        return math.sqrt(self.x ** 2 + self.y ** 2)"
   ]
  },
  {
   "cell_type": "markdown",
   "id": "e93fd6be",
   "metadata": {},
   "source": [
    "We create a few vectors and work with them. Note that `print` now falls back on the `__repr__()` method for printing the vectors, because `__str__()` is not implemented."
   ]
  },
  {
   "cell_type": "code",
   "execution_count": 55,
   "id": "a9cd8d50",
   "metadata": {},
   "outputs": [
    {
     "name": "stdout",
     "output_type": "stream",
     "text": [
      "v       =  Vector(1, 2)\n",
      "w       =  Vector(30, 40)\n",
      "v + w   =  Vector(31, 42)\n",
      "v * 5   =  Vector(5, 10)\n",
      "2 * v   =  Vector(2, 4)\n",
      "v / 10  =  Vector(0.1, 0.2)\n",
      "norm(v) =  2.23606797749979\n"
     ]
    }
   ],
   "source": [
    "v = Vector(1, 2)\n",
    "w = Vector(30, 40)\n",
    "\n",
    "print(\"v       = \", v)\n",
    "print(\"w       = \", w)\n",
    "print(\"v + w   = \", v + w)\n",
    "print(\"v * 5   = \", v * 5)\n",
    "print(\"2 * v   = \", 2 * v)\n",
    "print(\"v / 10  = \", v / 10)\n",
    "print(\"norm(v) = \", v.norm())"
   ]
  },
  {
   "cell_type": "markdown",
   "id": "69cc5719",
   "metadata": {},
   "source": [
    "- `__rmul__()` vs `__mul__()`:\n",
    "    - `v * 5` is `v.__mul__(5)`: no problem, run `Vector.__mul__(v, 5)`\n",
    "    - `2 * v` would be `2.__mul__(v)`, i.e., `int.__mul__(2, v)`\n",
    "    - `int` knows nothing about vectors: error!\n",
    "    - `__rmul__()`: called with swapped arguments if `__mul__()` fails\n",
    "    - `2 * v` becomes `v.__rmul__(2)`, running `Vector.__rmul__(v, 2)`\n",
    "    - `__rmul__()` usually implemented in terms of `__mul__()` or `*`\n",
    "- `r`-versions also for other math methods"
   ]
  },
  {
   "cell_type": "markdown",
   "id": "0b56dbab",
   "metadata": {},
   "source": [
    "### Overriding comparisons\n",
    "\n",
    "- `<`, `<=`, `>`, `>=`, `==`, `!=` can be overriding by defining `__lt__`, `__le__`, `__gt__`, `__ge__`, `__eq__`, `__ne__`\n",
    "- `x < y` is equivalent to `x.__lt__(y)`\n",
    "- Shall return `True` or `False`\n",
    "- This set of six comparisons is known as *rich comparisons*\n",
    "\n",
    "#### Default comparisons\n",
    "\n",
    "- By default, a new class inherits comparisons from the fundamental base class `object`\n",
    "- `__eq__` and `__ne__` test for *object identity*\n",
    "    - same `o1 == o2` means the same as `o1 is o2`\n",
    "    - this may lead to confusing results, because we expect semantic comparison from `==`\n",
    "- All other comparisons return `NotImplemented` and will result in an error"
   ]
  },
  {
   "cell_type": "code",
   "execution_count": 56,
   "id": "a037e792",
   "metadata": {},
   "outputs": [
    {
     "data": {
      "text/plain": [
       "(True, False)"
      ]
     },
     "execution_count": 56,
     "metadata": {},
     "output_type": "execute_result"
    }
   ],
   "source": [
    "o1 = object()\n",
    "o2 = object()\n",
    "\n",
    "o1 == o1, o1 == o2"
   ]
  },
  {
   "cell_type": "code",
   "execution_count": 57,
   "id": "1deba3e3",
   "metadata": {},
   "outputs": [
    {
     "ename": "TypeError",
     "evalue": "'<' not supported between instances of 'object' and 'object'",
     "output_type": "error",
     "traceback": [
      "\u001b[31m---------------------------------------------------------------------------\u001b[39m",
      "\u001b[31mTypeError\u001b[39m                                 Traceback (most recent call last)",
      "\u001b[36mCell\u001b[39m\u001b[36m \u001b[39m\u001b[32mIn[57]\u001b[39m\u001b[32m, line 1\u001b[39m\n\u001b[32m----> \u001b[39m\u001b[32m1\u001b[39m \u001b[43mo1\u001b[49m\u001b[43m \u001b[49m\u001b[43m<\u001b[49m\u001b[43m \u001b[49m\u001b[43mo2\u001b[49m\n",
      "\u001b[31mTypeError\u001b[39m: '<' not supported between instances of 'object' and 'object'"
     ]
    }
   ],
   "source": [
    "o1 < o2"
   ]
  },
  {
   "cell_type": "markdown",
   "id": "2f0159ed",
   "metadata": {},
   "source": [
    "#### Class-specific comparisons\n",
    "\n",
    "- Override only comparisons that can be defined meaningfully!\n",
    "- Equality can be defined for most types\n",
    "- Only define \"less than\" and similar if there is one universal way of ordering instances of a class\n",
    "    - Numbers are well-ordered in a mathematical sense: define `__lt__()` etc\n",
    "    - Vectors can only be compared for equality\n",
    "    - If instances can be ordered in different ways in different situations (by name, member number, age, ...) define the ordering rule as `key` to the sorting function\n",
    "- If you define \"less than\", implement all other comparisons as well\n",
    "    - Define them in terms of `<` and `==` to ensure consistency\n",
    "    \n",
    "##### Example: Vector class\n",
    "\n",
    "- Only equality and inequality\n",
    "- Try first vector class from above *without* comparisons"
   ]
  },
  {
   "cell_type": "code",
   "execution_count": 58,
   "id": "23975dba",
   "metadata": {},
   "outputs": [
    {
     "data": {
      "text/plain": [
       "False"
      ]
     },
     "execution_count": 58,
     "metadata": {},
     "output_type": "execute_result"
    }
   ],
   "source": [
    "v1 = Vector(1, 2)\n",
    "v2 = Vector(1, 2)\n",
    "v1 == v2"
   ]
  },
  {
   "cell_type": "markdown",
   "id": "e7fb4aee",
   "metadata": {},
   "source": [
    "- Result is `False` because `Vector` inherited `__eq__` from `object` and tests for `v1 is v2`\n",
    "- Now create class with overridden comparisons"
   ]
  },
  {
   "cell_type": "code",
   "execution_count": 59,
   "id": "cb125950",
   "metadata": {},
   "outputs": [],
   "source": [
    "class NewVector:\n",
    "\n",
    "    def __init__(self, x, y):\n",
    "        self.x = x\n",
    "        self.y = y\n",
    "        \n",
    "    def __eq__(self, rhs):\n",
    "        return self.x == rhs.x and self.y == rhs.y\n",
    "    \n",
    "    def __ne__(self, rhs):\n",
    "        return not ( self == rhs )\n",
    "\n",
    "    def __repr__(self):\n",
    "        return f'Vector({self.x}, {self.y})'\n",
    "\n",
    "    def __add__(self, rhs):\n",
    "        return Vector(self.x + rhs.x, self.y + rhs.y)\n",
    "\n",
    "    def __sub__(self, rhs):\n",
    "        return Vector(self.x - rhs.x, self.y - rhs.y)\n",
    "\n",
    "    def __mul__(self, rhs):\n",
    "        return Vector(self.x * rhs, self.y * rhs)\n",
    "\n",
    "    def __rmul__(self, lhs):\n",
    "        return self * lhs\n",
    "\n",
    "    def __truediv__(self, rhs):\n",
    "        return self * (1. / rhs)\n",
    "\n",
    "    def norm(self):\n",
    "        return math.sqrt(self.x ** 2 + self.y ** 2)"
   ]
  },
  {
   "cell_type": "code",
   "execution_count": 63,
   "id": "e578199e",
   "metadata": {},
   "outputs": [
    {
     "name": "stdout",
     "output_type": "stream",
     "text": [
      "nv1 == nv2 = True\n",
      "nv1 == nv3 = True\n",
      "nv1 == nv4 = False\n"
     ]
    }
   ],
   "source": [
    "nv1 = NewVector(1, 2)\n",
    "nv2 = NewVector(1, 2)\n",
    "nv3 = NewVector(1.0, 2.0)\n",
    "nv4 = NewVector(5, 8)\n",
    "\n",
    "print(f\"{nv1 == nv2 = }\")\n",
    "print(f\"{nv1 == nv3 = }\")\n",
    "print(f\"{nv1 == nv4 = }\")"
   ]
  },
  {
   "cell_type": "markdown",
   "id": "121b79cb",
   "metadata": {},
   "source": [
    "- We now compare for equality in the mathematical sense\n",
    "- We do not allow relative comparisons"
   ]
  },
  {
   "cell_type": "code",
   "execution_count": 64,
   "id": "3e436258",
   "metadata": {},
   "outputs": [
    {
     "ename": "TypeError",
     "evalue": "'<' not supported between instances of 'NewVector' and 'NewVector'",
     "output_type": "error",
     "traceback": [
      "\u001b[31m---------------------------------------------------------------------------\u001b[39m",
      "\u001b[31mTypeError\u001b[39m                                 Traceback (most recent call last)",
      "\u001b[36mCell\u001b[39m\u001b[36m \u001b[39m\u001b[32mIn[64]\u001b[39m\u001b[32m, line 1\u001b[39m\n\u001b[32m----> \u001b[39m\u001b[32m1\u001b[39m \u001b[43mnv1\u001b[49m\u001b[43m \u001b[49m\u001b[43m<\u001b[49m\u001b[43m \u001b[49m\u001b[43mnv4\u001b[49m\n",
      "\u001b[31mTypeError\u001b[39m: '<' not supported between instances of 'NewVector' and 'NewVector'"
     ]
    }
   ],
   "source": [
    "nv1 < nv4"
   ]
  },
  {
   "cell_type": "code",
   "execution_count": 65,
   "id": "6fd71241",
   "metadata": {},
   "outputs": [],
   "source": [
    "vecs = [NewVector(1, 2), NewVector(7, 1), NewVector(2, 8), NewVector(6, 0)]"
   ]
  },
  {
   "cell_type": "markdown",
   "id": "06f8df6b",
   "metadata": {},
   "source": [
    "- If we want to sort vectors by length (norm), we need to specify this via the sort key\n",
    "- Advantage: Anyone reading this code sees immediately that we sort by length, not, e.g., by x-component"
   ]
  },
  {
   "cell_type": "code",
   "execution_count": 66,
   "id": "9ed37610",
   "metadata": {},
   "outputs": [
    {
     "data": {
      "text/plain": [
       "[Vector(1, 2), Vector(6, 0), Vector(7, 1), Vector(2, 8)]"
      ]
     },
     "execution_count": 66,
     "metadata": {},
     "output_type": "execute_result"
    }
   ],
   "source": [
    "sorted(vecs, key=lambda v: v.norm())"
   ]
  },
  {
   "cell_type": "markdown",
   "id": "bc0f1b1f",
   "metadata": {},
   "source": [
    "#### Example: a fraction class supporting all comparisons\n",
    "\n",
    "- Note that we only need to implement `__eq__()` and `__lt__()` explicitly\n",
    "- All other comparisons can be constructed from those two."
   ]
  },
  {
   "cell_type": "markdown",
   "id": "470752a1",
   "metadata": {},
   "source": [
    "$$\\frac{a}{b}<\\frac{c}{d}\\Leftrightarrow a d < c b \\;, b, d > 0$$"
   ]
  },
  {
   "cell_type": "code",
   "execution_count": 67,
   "id": "177aaf32",
   "metadata": {},
   "outputs": [],
   "source": [
    "class Fraction:\n",
    "    def __init__(self, a, b):\n",
    "        assert b > 0, \"Denominator b > 0 required.\"\n",
    "        self.a, self.b = a, b\n",
    "    \n",
    "    def __eq__(self, rhs):\n",
    "        return self.a * rhs.b == rhs.a * self.b\n",
    "    \n",
    "    def __ne__(self, rhs):\n",
    "        return not ( self == rhs )\n",
    "    \n",
    "    def __lt__(self, rhs):\n",
    "        return self.a * rhs.b < rhs.a * self.b  # expand fractions to same denominator and compare numerators\n",
    "\n",
    "    def __le__(self, rhs):\n",
    "        return self < rhs or self == rhs\n",
    "    \n",
    "    def __gt__(self, rhs):\n",
    "        return rhs < self\n",
    "\n",
    "    def __ge__(self, rhs):\n",
    "        return rhs <= self"
   ]
  },
  {
   "cell_type": "code",
   "execution_count": 68,
   "id": "be0fbc1b",
   "metadata": {},
   "outputs": [
    {
     "data": {
      "text/plain": [
       "True"
      ]
     },
     "execution_count": 68,
     "metadata": {},
     "output_type": "execute_result"
    }
   ],
   "source": [
    "Fraction(1, 2) == Fraction(2, 4)"
   ]
  },
  {
   "cell_type": "code",
   "execution_count": 69,
   "id": "57ed9bfd",
   "metadata": {},
   "outputs": [],
   "source": [
    "f1 = Fraction(3, 4)\n",
    "f2 = Fraction(2, 3)"
   ]
  },
  {
   "cell_type": "code",
   "execution_count": 71,
   "id": "dfeb09b5",
   "metadata": {},
   "outputs": [
    {
     "name": "stdout",
     "output_type": "stream",
     "text": [
      "f1 == f2 = False\n",
      "f1  < f2 = False\n",
      "f1 >= f2 = True\n"
     ]
    }
   ],
   "source": [
    "print(f\"{f1 == f2 = }\")\n",
    "print(f\"{f1  < f2 = }\")\n",
    "print(f\"{f1 >= f2 = }\")"
   ]
  }
 ],
 "metadata": {
  "kernelspec": {
   "display_name": ".venv",
   "language": "python",
   "name": "python3"
  },
  "language_info": {
   "codemirror_mode": {
    "name": "ipython",
    "version": 3
   },
   "file_extension": ".py",
   "mimetype": "text/x-python",
   "name": "python",
   "nbconvert_exporter": "python",
   "pygments_lexer": "ipython3",
   "version": "3.13.8"
  }
 },
 "nbformat": 4,
 "nbformat_minor": 5
}
